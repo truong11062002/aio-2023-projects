{
 "cells": [
  {
   "cell_type": "code",
   "execution_count": 1,
   "metadata": {},
   "outputs": [],
   "source": [
    "import cv2\n",
    "import numpy as np\n",
    "import matplotlib.pyplot as plt\n",
    "import os\n",
    "import sys"
   ]
  },
  {
   "cell_type": "code",
   "execution_count": 2,
   "metadata": {},
   "outputs": [],
   "source": [
    "left_im = cv2.imread('../images/Aloe/Aloe_left_1.png')\n",
    "right_im = cv2.imread('../images/Aloe/Aloe_right_1.png')\n",
    "\n",
    "left_im = cv2.cvtColor(left_im, cv2.COLOR_BGR2GRAY)\n",
    "right_im = cv2.cvtColor(right_im, cv2.COLOR_BGR2GRAY)\n",
    "\n",
    "left_im = np.float32(left_im)\n",
    "right_im = np.float32(right_im)\n",
    "\n",
    "height, width = left_im.shape\n",
    "\n",
    "matrix = np.zeros((height, width, 2))\n"
   ]
  }
 ],
 "metadata": {
  "kernelspec": {
   "display_name": "ai_vietnam",
   "language": "python",
   "name": "python3"
  },
  "language_info": {
   "codemirror_mode": {
    "name": "ipython",
    "version": 3
   },
   "file_extension": ".py",
   "mimetype": "text/x-python",
   "name": "python",
   "nbconvert_exporter": "python",
   "pygments_lexer": "ipython3",
   "version": "3.11.3"
  }
 },
 "nbformat": 4,
 "nbformat_minor": 2
}
